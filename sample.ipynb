{
 "cells": [
  {
   "cell_type": "code",
   "execution_count": 1,
   "id": "3ad5f833-6edc-4f3e-a667-48c4e75649c8",
   "metadata": {
    "pycharm": {
     "name": "#%%\n"
    }
   },
   "outputs": [
    {
     "data": {
      "text/plain": [
       "6"
      ]
     },
     "execution_count": 1,
     "metadata": {},
     "output_type": "execute_result"
    }
   ],
   "source": [
    "val x = 3\n",
    "x * 2"
   ]
  },
  {
   "cell_type": "code",
   "execution_count": 2,
   "id": "11c980d2-30a7-45ae-867e-4263be39242f",
   "metadata": {
    "pycharm": {
     "name": "#%%\n"
    }
   },
   "outputs": [],
   "source": [
    "@file:DependsOn(\"org.archguard.scanner:doc-executor:2.0.0-alpha.2\")\n",
    "\n",
    "import org.archguard.dsl.*\n",
    "\n",
    "var layer = layered {\n",
    "    prefixId(\"org.archguard\")\n",
    "    component(\"controller\") dependentOn component(\"service\")\n",
    "    组件(\"service\") 依赖于 组件(\"repository\")\n",
    "}"
   ]
  },
  {
   "cell_type": "code",
   "execution_count": 3,
   "id": "f290f125-72f2-49a8-826b-f3af408a54a6",
   "metadata": {
    "pycharm": {
     "name": "#%%\n"
    }
   },
   "outputs": [
    {
     "name": "stdout",
     "output_type": "stream",
     "text": [
      "controller\n",
      "service\n",
      "repository\n"
     ]
    }
   ],
   "source": [
    "layer.components().forEach {\n",
    "   println(it.name)   \n",
    "}"
   ]
  }
 ],
 "metadata": {
  "kernelspec": {
   "display_name": "Kotlin",
   "language": "kotlin",
   "name": "kotlin"
  },
  "language_info": {
   "codemirror_mode": "text/x-kotlin",
   "file_extension": ".kt",
   "mimetype": "text/x-kotlin",
   "name": "kotlin",
   "nbconvert_exporter": "",
   "pygments_lexer": "kotlin",
   "version": "1.7.0-dev-3303"
  }
 },
 "nbformat": 4,
 "nbformat_minor": 5
}